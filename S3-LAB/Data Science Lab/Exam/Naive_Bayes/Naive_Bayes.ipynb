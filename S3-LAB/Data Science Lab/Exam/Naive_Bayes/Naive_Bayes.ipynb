{
  "cells": [
    {
      "cell_type": "code",
      "execution_count": 136,
      "metadata": {
        "id": "81bxEcMLuO8X"
      },
      "outputs": [],
      "source": [
        "from sklearn.model_selection import train_test_split\n",
        "from sklearn.naive_bayes import GaussianNB\n",
        "from sklearn import metrics\n",
        "import pandas as pd"
      ]
    },
    {
      "cell_type": "code",
      "execution_count": null,
      "metadata": {
        "id": "MWoT9WM8sBL8"
      },
      "outputs": [],
      "source": [
        "from google.colab import drive\n",
        "drive.mount('/content/drive')"
      ]
    },
    {
      "cell_type": "code",
      "execution_count": 138,
      "metadata": {
        "id": "GSU1Zp-quWia"
      },
      "outputs": [],
      "source": [
        "df = pd.read_csv('/content/drive/MyDrive/LAB/data.csv')\n",
        "X = df[['gives_birth','aquatic_animal','aerial_animal','has_legs']]\n",
        "y = df[['class_label']]"
      ]
    },
    {
      "cell_type": "code",
      "execution_count": 139,
      "metadata": {
        "colab": {
          "base_uri": "https://localhost:8080/"
        },
        "id": "zvvxKrDHgay6",
        "outputId": "964fd1d2-5382-4b5b-d14c-91c9d1ee09a7"
      },
      "outputs": [
        {
          "name": "stdout",
          "output_type": "stream",
          "text": [
            "   gives_birth  aquatic_animal  aerial_animal  has_legs\n",
            "7            1               1              0         0\n",
            "  class_label\n",
            "7        fish\n"
          ]
        }
      ],
      "source": [
        "x_train,x_test,y_train,y_test = train_test_split(X,y,test_size=0.1)\n",
        "print(x_test)\n",
        "print(y_test)"
      ]
    },
    {
      "cell_type": "code",
      "execution_count": 140,
      "metadata": {
        "colab": {
          "base_uri": "https://localhost:8080/"
        },
        "id": "OYHQTMZog13q",
        "outputId": "11cef112-0f9e-487c-cb94-77578cbacdce"
      },
      "outputs": [
        {
          "name": "stdout",
          "output_type": "stream",
          "text": [
            "['fish']\n"
          ]
        }
      ],
      "source": [
        "gnb = GaussianNB()\n",
        "gnb.fit(x_train,y_train.values.ravel())\n",
        "y_pred = gnb.predict(x_test)\n",
        "print(y_pred)\n",
        "#.values will give the values in a numpy array (shape: (n,1))\n",
        "#.ravel will convert that array shape to (n, ) (i.e. flatten it)\n"
      ]
    },
    {
      "cell_type": "code",
      "execution_count": 141,
      "metadata": {
        "colab": {
          "base_uri": "https://localhost:8080/"
        },
        "id": "O2TsTm-rl4xi",
        "outputId": "ac6a5722-e6de-4a7d-bc53-a89560762be0"
      },
      "outputs": [
        {
          "name": "stdout",
          "output_type": "stream",
          "text": [
            "1.0\n"
          ]
        }
      ],
      "source": [
        "print(metrics.accuracy_score(y_test,y_pred))"
      ]
    },
    {
      "cell_type": "code",
      "execution_count": 142,
      "metadata": {
        "colab": {
          "base_uri": "https://localhost:8080/"
        },
        "id": "xZS6XtJvrVpT",
        "outputId": "58930abc-0b09-4606-f7fd-8eb0b0aea49c"
      },
      "outputs": [
        {
          "name": "stdout",
          "output_type": "stream",
          "text": [
            "['fish' 'mammal' 'amphibian' 'bird' 'reptile' 'amphibian' 'amphibian'\n",
            " 'mammal' 'bird']\n",
            "['fish' 'mammal' 'ampbibian' 'bird' 'reptile' 'amphibian' 'amphibian'\n",
            " 'mammal' 'bird']\n"
          ]
        }
      ],
      "source": [
        "print(gnb.predict(x_train))\n",
        "print(y_train.values.ravel())\n"
      ]
    }
  ],
  "metadata": {
    "colab": {
      "name": "DS_LAB_EXAM.ipynb",
      "provenance": []
    },
    "kernelspec": {
      "display_name": "Python 3",
      "name": "python3"
    },
    "language_info": {
      "name": "python"
    }
  },
  "nbformat": 4,
  "nbformat_minor": 0
}
