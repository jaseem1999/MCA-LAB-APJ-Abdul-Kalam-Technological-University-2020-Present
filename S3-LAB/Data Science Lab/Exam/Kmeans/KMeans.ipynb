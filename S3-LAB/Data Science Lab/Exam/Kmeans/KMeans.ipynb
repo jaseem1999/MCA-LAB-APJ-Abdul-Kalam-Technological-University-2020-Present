{
  "cells": [
    {
      "cell_type": "code",
      "execution_count": 195,
      "metadata": {
        "id": "81bxEcMLuO8X"
      },
      "outputs": [],
      "source": [
        "from sklearn.cluster import KMeans\n",
        "import pandas as pd\n",
        "import matplotlib.pyplot as plt"
      ]
    },
    {
      "cell_type": "code",
      "execution_count": null,
      "metadata": {
        "id": "MWoT9WM8sBL8"
      },
      "outputs": [],
      "source": [
        "from google.colab import drive\n",
        "drive.mount('/content/drive')"
      ]
    },
    {
      "cell_type": "code",
      "execution_count": 250,
      "metadata": {
        "colab": {
          "base_uri": "https://localhost:8080/"
        },
        "id": "GSU1Zp-quWia",
        "outputId": "39cdc6cd-70ba-4628-8a7a-d7f591f1e2a8"
      },
      "outputs": [
        {
          "name": "stdout",
          "output_type": "stream",
          "text": [
            "   gives_birth  aquatic_animal\n",
            "0            1               0\n",
            "1            0               0\n",
            "2            0               1\n",
            "3            0               2\n",
            "4            1               0\n",
            "5            0               0\n",
            "6            1               0\n",
            "7            1               1\n",
            "8            0               2\n",
            "9            0               2\n",
            "   class_label\n",
            "0            0\n",
            "1            1\n",
            "2            2\n",
            "3            3\n",
            "4            4\n",
            "5            4\n",
            "6            0\n",
            "7            2\n",
            "8            3\n",
            "9            3\n"
          ]
        }
      ],
      "source": [
        "df = pd.read_csv('/content/drive/MyDrive/LAB/data_numerical.csv')\n",
        "X = df[['gives_birth','aquatic_animal']]\n",
        "y = df[['class_label']]\n",
        "target_names = ['mammal','reptile','fish','ampbibian','bird']\n",
        "feature_names = ['gives_birth','aquatic_animal','aerial_animal','has_legs']\n",
        "print(X)\n",
        "print(y)"
      ]
    },
    {
      "cell_type": "code",
      "execution_count": 239,
      "metadata": {
        "colab": {
          "base_uri": "https://localhost:8080/",
          "height": 282
        },
        "id": "VeeBE7fqsiPr",
        "outputId": "5b34e28d-d961-4448-afa5-8b006dffdd2b"
      },
      "outputs": [
        {
          "data": {
            "text/plain": [
              "<matplotlib.collections.PathCollection at 0x7f9290cda510>"
            ]
          },
          "execution_count": 239,
          "metadata": {},
          "output_type": "execute_result"
        },
        {
          "data": {
            "image/png": "[encoded data removed]",
            "text/plain": [
              "<Figure size 432x288 with 1 Axes>"
            ]
          },
          "metadata": {
            "needs_background": "light"
          },
          "output_type": "display_data"
        }
      ],
      "source": [
        "plt.scatter(X['gives_birth'],X['aquatic_animal'],c=y.values.ravel())"
      ]
    },
    {
      "cell_type": "code",
      "execution_count": 255,
      "metadata": {
        "colab": {
          "base_uri": "https://localhost:8080/"
        },
        "id": "OYHQTMZog13q",
        "outputId": "bc76c53f-4fb7-4ea4-9fb2-6324380a2a86"
      },
      "outputs": [
        {
          "name": "stdout",
          "output_type": "stream",
          "text": [
            "[0 0 1 1 0 0 0 0 1 1]\n",
            "[0 1 2 3 4 4 0 2 3 3]\n"
          ]
        }
      ],
      "source": [
        "km = KMeans(n_clusters=2)\n",
        "km.fit(X)\n",
        "centers = km.cluster_centers_\n",
        "labels = km.labels_\n",
        "print(labels)\n",
        "print(y.values.ravel())\n"
      ]
    },
    {
      "cell_type": "code",
      "execution_count": 261,
      "metadata": {
        "colab": {
          "base_uri": "https://localhost:8080/",
          "height": 271
        },
        "id": "DIj8_jIOw5oF",
        "outputId": "99f76476-11f3-4e4c-ccce-0ba7ecf529c7"
      },
      "outputs": [
        {
          "data": {
            "text/plain": [
              "<matplotlib.collections.PathCollection at 0x7f928ad70650>"
            ]
          },
          "execution_count": 261,
          "metadata": {},
          "output_type": "execute_result"
        },
        {
          "data": {
            "image/png": "[encoded data removed]",
            "text/plain": [
              "<Figure size 1152x288 with 2 Axes>"
            ]
          },
          "metadata": {
            "needs_background": "light"
          },
          "output_type": "display_data"
        }
      ],
      "source": [
        "fig,axes = plt.subplots(1,2,figsize=(16,4))\n",
        "axes[0].scatter(X['gives_birth'],X['aquatic_animal'],c=y.values.ravel())\n",
        "axes[1].scatter(X['gives_birth'],X['aquatic_animal'],c=labels)"
      ]
    }
  ],
  "metadata": {
    "colab": {
      "name": "DS_LAB_EXAM.ipynb",
      "provenance": []
    },
    "kernelspec": {
      "display_name": "Python 3",
      "name": "python3"
    },
    "language_info": {
      "name": "python"
    }
  },
  "nbformat": 4,
  "nbformat_minor": 0
}
