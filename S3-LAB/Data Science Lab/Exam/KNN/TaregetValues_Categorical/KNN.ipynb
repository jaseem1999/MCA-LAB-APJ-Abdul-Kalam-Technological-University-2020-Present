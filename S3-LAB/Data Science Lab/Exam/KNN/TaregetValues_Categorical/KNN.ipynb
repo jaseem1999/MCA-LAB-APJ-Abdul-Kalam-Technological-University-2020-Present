{
  "cells": [
    {
      "cell_type": "code",
      "execution_count": 51,
      "metadata": {
        "id": "81bxEcMLuO8X"
      },
      "outputs": [],
      "source": [
        "from sklearn.model_selection import train_test_split\n",
        "from sklearn.neighbors import KNeighborsClassifier\n",
        "from sklearn import metrics\n",
        "import pandas as pd"
      ]
    },
    {
      "cell_type": "code",
      "execution_count": null,
      "metadata": {
        "id": "MWoT9WM8sBL8"
      },
      "outputs": [],
      "source": [
        "from google.colab import drive\n",
        "drive.mount('/content/drive')"
      ]
    },
    {
      "cell_type": "code",
      "execution_count": 124,
      "metadata": {
        "id": "GSU1Zp-quWia"
      },
      "outputs": [],
      "source": [
        "df = pd.read_csv('/content/drive/MyDrive/LAB/data.csv')\n",
        "X = df[['gives_birth','aquatic_animal','aerial_animal','has_legs']]\n",
        "y = df[['class_label']]"
      ]
    },
    {
      "cell_type": "code",
      "execution_count": 127,
      "metadata": {
        "colab": {
          "base_uri": "https://localhost:8080/"
        },
        "id": "zvvxKrDHgay6",
        "outputId": "e4931a1f-b881-4036-cf2e-2c454f30f1ac"
      },
      "outputs": [
        {
          "name": "stdout",
          "output_type": "stream",
          "text": [
            "   gives_birth  aquatic_animal  aerial_animal  has_legs\n",
            "1            0               0              0         0\n",
            "   class_label\n",
            "1            1\n"
          ]
        }
      ],
      "source": [
        "x_train,x_test,y_train,y_test = train_test_split(X,y,test_size=0.1)\n",
        "print(x_test)\n",
        "print(y_test)"
      ]
    },
    {
      "cell_type": "code",
      "execution_count": 128,
      "metadata": {
        "colab": {
          "base_uri": "https://localhost:8080/"
        },
        "id": "OYHQTMZog13q",
        "outputId": "bc6c7b54-f662-474d-84fc-59d60445a0dd"
      },
      "outputs": [
        {
          "name": "stdout",
          "output_type": "stream",
          "text": [
            "[2]\n"
          ]
        }
      ],
      "source": [
        "knn = KNeighborsClassifier(n_neighbors=1)\n",
        "knn.fit(x_train,y_train.values.ravel())\n",
        "y_pred = knn.predict(x_test)\n",
        "print(y_pred)\n",
        "#.values will give the values in a numpy array (shape: (n,1))\n",
        "#.ravel will convert that array shape to (n, ) (i.e. flatten it)\n"
      ]
    },
    {
      "cell_type": "code",
      "execution_count": 129,
      "metadata": {
        "colab": {
          "base_uri": "https://localhost:8080/"
        },
        "id": "O2TsTm-rl4xi",
        "outputId": "e7c8a262-f67e-4e45-a26e-bb755b16a5e8"
      },
      "outputs": [
        {
          "name": "stdout",
          "output_type": "stream",
          "text": [
            "0.0\n"
          ]
        }
      ],
      "source": [
        "print(metrics.accuracy_score(y_test,y_pred))"
      ]
    },
    {
      "cell_type": "code",
      "execution_count": 130,
      "metadata": {
        "colab": {
          "base_uri": "https://localhost:8080/"
        },
        "id": "xZS6XtJvrVpT",
        "outputId": "4e8e318f-98b6-4e6e-9530-17da1718a21c"
      },
      "outputs": [
        {
          "name": "stdout",
          "output_type": "stream",
          "text": [
            "[3 2 4 3 3 0 2 0 4]\n",
            "[3 2 4 3 3 0 2 0 4]\n"
          ]
        }
      ],
      "source": [
        "print(knn.predict(x_train))\n",
        "print(y_train.values.ravel())\n"
      ]
    }
  ],
  "metadata": {
    "colab": {
      "name": "DS_LAB_EXAM.ipynb",
      "provenance": []
    },
    "kernelspec": {
      "display_name": "Python 3",
      "name": "python3"
    },
    "language_info": {
      "name": "python"
    }
  },
  "nbformat": 4,
  "nbformat_minor": 0
}
