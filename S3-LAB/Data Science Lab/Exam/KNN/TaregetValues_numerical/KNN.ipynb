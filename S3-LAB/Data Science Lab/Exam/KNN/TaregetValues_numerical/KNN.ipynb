{
  "cells": [
    {
      "cell_type": "code",
      "execution_count": 51,
      "metadata": {
        "id": "81bxEcMLuO8X"
      },
      "outputs": [],
      "source": [
        "from sklearn.model_selection import train_test_split\n",
        "from sklearn.neighbors import KNeighborsClassifier\n",
        "from sklearn import metrics\n",
        "import pandas as pd"
      ]
    },
    {
      "cell_type": "code",
      "execution_count": null,
      "metadata": {
        "id": "MWoT9WM8sBL8"
      },
      "outputs": [],
      "source": [
        "from google.colab import drive\n",
        "drive.mount('/content/drive')"
      ]
    },
    {
      "cell_type": "code",
      "execution_count": 114,
      "metadata": {
        "id": "GSU1Zp-quWia"
      },
      "outputs": [],
      "source": [
        "df = pd.read_csv('/content/drive/MyDrive/LAB/data_numerical.csv')\n",
        "X = df[['gives_birth','aquatic_animal','aerial_animal','has_legs']]\n",
        "y = df[['class_label']]\n",
        "target_names = ['mammal','reptile','fish','ampbibian','bird']\n",
        "# mammal - 0 , reptile - 1 , fish - 2 , amphibian - 3 , bird - 4"
      ]
    },
    {
      "cell_type": "code",
      "execution_count": 115,
      "metadata": {
        "colab": {
          "base_uri": "https://localhost:8080/"
        },
        "id": "zvvxKrDHgay6",
        "outputId": "1479ad3f-1375-4ef5-cf11-6e7021abcd5d"
      },
      "outputs": [
        {
          "name": "stdout",
          "output_type": "stream",
          "text": [
            "   gives_birth  aquatic_animal  aerial_animal  has_legs\n",
            "0            1               0              0         1\n",
            "   class_label\n",
            "0            0\n"
          ]
        }
      ],
      "source": [
        "x_train,x_test,y_train,y_test = train_test_split(X,y,test_size=0.1)\n",
        "print(x_test)\n",
        "print(y_test)"
      ]
    },
    {
      "cell_type": "code",
      "execution_count": 119,
      "metadata": {
        "colab": {
          "base_uri": "https://localhost:8080/"
        },
        "id": "OYHQTMZog13q",
        "outputId": "3970a5cb-d67b-4fab-bbbd-bc7084405a5e"
      },
      "outputs": [
        {
          "name": "stdout",
          "output_type": "stream",
          "text": [
            "[0]\n",
            "mammal\n"
          ]
        }
      ],
      "source": [
        "knn = KNeighborsClassifier(n_neighbors=1)\n",
        "knn.fit(x_train,y_train.values.ravel())\n",
        "y_pred = knn.predict(x_test)\n",
        "print(y_pred)\n",
        "for each in y_pred:\n",
        "  print(target_names[each])\n",
        "#.values will give the values in a numpy array (shape: (n,1))\n",
        "#.ravel will convert that array shape to (n, ) (i.e. flatten it)\n"
      ]
    },
    {
      "cell_type": "code",
      "execution_count": 120,
      "metadata": {
        "colab": {
          "base_uri": "https://localhost:8080/"
        },
        "id": "O2TsTm-rl4xi",
        "outputId": "a4a12a31-6607-4f18-b0b7-cc4cc34d96c6"
      },
      "outputs": [
        {
          "name": "stdout",
          "output_type": "stream",
          "text": [
            "1.0\n"
          ]
        }
      ],
      "source": [
        "print(metrics.accuracy_score(y_test,y_pred))"
      ]
    },
    {
      "cell_type": "code",
      "execution_count": 121,
      "metadata": {
        "colab": {
          "base_uri": "https://localhost:8080/"
        },
        "id": "xZS6XtJvrVpT",
        "outputId": "cb3d57ce-f193-45f8-d523-b327e92e5374"
      },
      "outputs": [
        {
          "name": "stdout",
          "output_type": "stream",
          "text": [
            "[3 1 2 0 3 4 2 3 4]\n",
            "   class_label\n",
            "8            3\n",
            "1            1\n",
            "7            2\n",
            "6            0\n",
            "9            3\n",
            "5            4\n",
            "2            2\n",
            "3            3\n",
            "4            4\n"
          ]
        }
      ],
      "source": [
        "print(knn.predict(x_train))\n",
        "print(y_train.values.ravel())\n"
      ]
    }
  ],
  "metadata": {
    "colab": {
      "name": "DS_LAB_EXAM.ipynb",
      "provenance": []
    },
    "kernelspec": {
      "display_name": "Python 3",
      "name": "python3"
    },
    "language_info": {
      "name": "python"
    }
  },
  "nbformat": 4,
  "nbformat_minor": 0
}
